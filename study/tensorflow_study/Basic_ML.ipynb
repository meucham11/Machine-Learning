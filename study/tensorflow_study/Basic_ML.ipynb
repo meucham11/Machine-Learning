{
 "cells": [
  {
   "cell_type": "code",
   "execution_count": 50,
   "metadata": {},
   "outputs": [],
   "source": [
    "import tensorflow as tf\n",
    "import numpy as np\n",
    "import matplotlib.pyplot as plt\n"
   ]
  },
  {
   "cell_type": "code",
   "execution_count": 2,
   "metadata": {},
   "outputs": [],
   "source": [
    "tf.enable_eager_execution()"
   ]
  },
  {
   "cell_type": "code",
   "execution_count": null,
   "metadata": {},
   "outputs": [],
   "source": []
  },
  {
   "cell_type": "markdown",
   "metadata": {},
   "source": [
    "# 선형"
   ]
  },
  {
   "cell_type": "markdown",
   "metadata": {},
   "source": [
    "## Gradient Descent"
   ]
  },
  {
   "cell_type": "code",
   "execution_count": 3,
   "metadata": {},
   "outputs": [],
   "source": [
    "x_data = [1,2,3,4,5]\n",
    "y_data = [1,2,3,4,5]\n",
    "\n",
    "W = tf.Variable(2.9)\n",
    "b = tf.Variable(0.5)\n"
   ]
  },
  {
   "cell_type": "code",
   "execution_count": 5,
   "metadata": {},
   "outputs": [
    {
     "name": "stdout",
     "output_type": "stream",
     "text": [
      "    0|    1.0048|  -0.01733|  0.000055\n",
      "   10|    1.0046|  -0.01675|  0.000051\n",
      "   20|    1.0045|  -0.01619|  0.000048\n",
      "   30|    1.0043|  -0.01566|  0.000045\n",
      "   40|    1.0042|  -0.01513|  0.000042\n",
      "   50|    1.0041|  -0.01463|  0.000039\n",
      "   60|    1.0039|  -0.01414|  0.000037\n",
      "   70|    1.0038|  -0.01367|  0.000034\n",
      "   80|    1.0037|  -0.01322|  0.000032\n",
      "   90|    1.0035|  -0.01278|  0.000030\n",
      "  100|    1.0034|  -0.01235|  0.000028\n",
      "  110|    1.0033|  -0.01194|  0.000026\n",
      "  120|    1.0032|  -0.01154|  0.000024\n",
      "  130|    1.0031|  -0.01116|  0.000023\n",
      "  140|    1.0030|  -0.01079|  0.000021\n",
      "  150|    1.0029|  -0.01043|  0.000020\n",
      "  160|    1.0028|  -0.01008|  0.000019\n",
      "  170|    1.0027| -0.009744|  0.000017\n",
      "  180|    1.0026|  -0.00942|  0.000016\n",
      "  190|    1.0025| -0.009106|  0.000015\n",
      "  200|    1.0024| -0.008803|  0.000014\n",
      "  210|    1.0024|  -0.00851|  0.000013\n",
      "  220|    1.0023| -0.008227|  0.000012\n",
      "  230|    1.0022| -0.007953|  0.000012\n",
      "  240|    1.0021| -0.007688|  0.000011\n",
      "  250|    1.0021| -0.007432|  0.000010\n",
      "  260|    1.0020| -0.007184|  0.000009\n",
      "  270|    1.0019| -0.006945|  0.000009\n",
      "  280|    1.0019| -0.006714|  0.000008\n",
      "  290|    1.0018|  -0.00649|  0.000008\n"
     ]
    }
   ],
   "source": [
    "learning_rate=tf.Variable(0.01) # step 크기\n",
    "\n",
    "for i in range(300):\n",
    "    with tf.GradientTape() as tape:\n",
    "        H = W * x_data + b\n",
    "        cost = tf.reduce_mean(tf.square(H - y_data))\n",
    "\n",
    "    W_grad, b_grad = tape.gradient(cost,[W,b])      # gradient함수는 첫번째 인자인 cost라는 함수에 대해 W와b 의 그레디언트 값을 반환한다.\n",
    "\n",
    "    W.assign_sub(learning_rate * W_grad)  # A.assign_sub(B)  =>  A = A-B 즉, A-=B.   계속 값을 업데이트\n",
    "    b.assign_sub(learning_rate * b_grad)  # 그라디언트값이 크면 좀더 많이 뛸 수 있다. 그래야 최소값에 빨리 도착할 수 있으니까!   \n",
    "    \n",
    "    if i % 10 ==0:\n",
    "        print(\"{:5}|{:10.4f}|{:10.4}|{:10.6f}\".format(i, W.numpy(), b.numpy(), cost.numpy()))"
   ]
  },
  {
   "cell_type": "markdown",
   "metadata": {},
   "source": [
    "초기값을 잘못 설정하게 되면, cost함수가 convex형이 아니라면 전체에서 W,b의 최소값을 찾을 수 없다."
   ]
  },
  {
   "cell_type": "code",
   "execution_count": null,
   "metadata": {},
   "outputs": [],
   "source": []
  },
  {
   "cell_type": "code",
   "execution_count": null,
   "metadata": {},
   "outputs": [],
   "source": []
  },
  {
   "cell_type": "markdown",
   "metadata": {},
   "source": [
    "## Multi_variable linear regression"
   ]
  },
  {
   "cell_type": "code",
   "execution_count": 243,
   "metadata": {},
   "outputs": [],
   "source": [
    "x1 = [73.,93.,89.,96.,73.]\n",
    "x2 = [80.,88.,91.,98.,66.]\n",
    "x3 = [75.,93.,90.,100.,70.]\n",
    "\n",
    "Y = [152.,185.,180.,196.,142.]\n",
    "\n",
    "w1 = tf.Variable(tf.random_normal([1]))\n",
    "w2 = tf.Variable(tf.random_normal([1]))\n",
    "w3 = tf.Variable(tf.random_normal([1]))\n",
    "b = tf.Variable(tf.random_normal([1]))\n",
    "\n"
   ]
  },
  {
   "cell_type": "code",
   "execution_count": 22,
   "metadata": {},
   "outputs": [
    {
     "name": "stdout",
     "output_type": "stream",
     "text": [
      "    0|   1593.1958\n",
      "  100|      3.0903\n",
      "  200|      2.8917\n",
      "  300|      2.8889\n",
      "  400|      2.8862\n",
      "  500|      2.8835\n",
      "  600|      2.8808\n",
      "  700|      2.8781\n",
      "  800|      2.8754\n",
      "  900|      2.8727\n",
      " 1000|      2.8700\n"
     ]
    }
   ],
   "source": [
    "learning_rate = 0.000001\n",
    "for i in range(1000+1):\n",
    "    with tf.GradientTape() as tape:\n",
    "        H = w1*x1 + w2*x2 + w3*x3 + b\n",
    "        cost = tf.reduce_mean(tf.square(H-Y))\n",
    "        \n",
    "    w1_grad,w2_grad,w3_grad,b_grad = tape.gradient(cost,[w1,w2,w3,b])\n",
    "\n",
    "    w1.assign_sub(learning_rate * w1_grad)\n",
    "    w2.assign_sub(learning_rate * w2_grad)\n",
    "    w3.assign_sub(learning_rate * w3_grad)\n",
    "    b.assign_sub(learning_rate * b_grad)\n",
    "\n",
    "    if i %100==0:\n",
    "        print(\"{:5}|{:12.4f}\".format(i,cost.numpy()))"
   ]
  },
  {
   "cell_type": "code",
   "execution_count": null,
   "metadata": {},
   "outputs": [],
   "source": []
  },
  {
   "cell_type": "markdown",
   "metadata": {},
   "source": [
    "### 행렬로 구현해보기"
   ]
  },
  {
   "cell_type": "code",
   "execution_count": 244,
   "metadata": {},
   "outputs": [
    {
     "data": {
      "text/plain": [
       "array([[ 73.,  80.,  75., 152.],\n",
       "       [ 93.,  88.,  93., 185.],\n",
       "       [ 89.,  91.,  90., 180.],\n",
       "       [ 96.,  98., 100., 196.],\n",
       "       [ 73.,  66.,  70., 142.]], dtype=float32)"
      ]
     },
     "execution_count": 244,
     "metadata": {},
     "output_type": "execute_result"
    }
   ],
   "source": [
    "data = np.transpose(np.array([x1,x2,x3,Y]))\n",
    "data = data.astype(\"float32\")\n",
    "data"
   ]
  },
  {
   "cell_type": "code",
   "execution_count": 245,
   "metadata": {},
   "outputs": [],
   "source": [
    "X = data[:,:-1]\n",
    "Y = data[:,[-1]]"
   ]
  },
  {
   "cell_type": "code",
   "execution_count": 246,
   "metadata": {},
   "outputs": [],
   "source": [
    "W = tf.Variable(tf.random_normal([3,1]))\n",
    "b = tf.Variable(tf.random_normal([1]))\n"
   ]
  },
  {
   "cell_type": "code",
   "execution_count": 247,
   "metadata": {},
   "outputs": [],
   "source": [
    "# prediction func\n",
    "def hypothesis(X):\n",
    "    return tf.matmul(X,W) + b"
   ]
  },
  {
   "cell_type": "code",
   "execution_count": 249,
   "metadata": {},
   "outputs": [
    {
     "name": "stdout",
     "output_type": "stream",
     "text": [
      "    0|      7.7154\n",
      "  100|      7.6133\n",
      "  200|      7.5151\n",
      "  300|      7.4208\n",
      "  400|      7.3299\n",
      "  500|      7.2425\n",
      "  600|      7.1582\n",
      "  700|      7.0771\n",
      "  800|      6.9987\n",
      "  900|      6.9232\n",
      " 1000|      6.8503\n",
      " 1100|      6.7799\n",
      " 1200|      6.7117\n",
      " 1300|      6.6459\n",
      " 1400|      6.5821\n",
      " 1500|      6.5205\n",
      " 1600|      6.4607\n",
      " 1700|      6.4027\n",
      " 1800|      6.3464\n",
      " 1900|      6.2918\n",
      " 2000|      6.2388\n"
     ]
    }
   ],
   "source": [
    "learning_rate = 0.00001\n",
    "for i in range(2000+1):\n",
    "    with tf.GradientTape() as tape:\n",
    "        cost = tf.reduce_mean((tf.square(hypothesis(X)-Y)))\n",
    "        \n",
    "    W_grad, b_grad = tape.gradient(cost,[W,b])\n",
    "\n",
    "    W.assign_sub(learning_rate * W_grad)\n",
    "    b.assign_sub(learning_rate * b_grad)\n",
    "\n",
    "    if i %100==0:\n",
    "        print(\"{:5}|{:12.4f}\".format(i,cost.numpy()))"
   ]
  },
  {
   "cell_type": "code",
   "execution_count": null,
   "metadata": {},
   "outputs": [],
   "source": []
  },
  {
   "cell_type": "markdown",
   "metadata": {},
   "source": [
    "## 로지스틱"
   ]
  },
  {
   "cell_type": "markdown",
   "metadata": {},
   "source": [
    "Cost Function"
   ]
  },
  {
   "cell_type": "code",
   "execution_count": null,
   "metadata": {},
   "outputs": [],
   "source": [
    "cost = -tf.reduce_mean(Y * tf.log(H) - (1- Y)*tf.log(1-H))"
   ]
  },
  {
   "cell_type": "code",
   "execution_count": 175,
   "metadata": {},
   "outputs": [],
   "source": [
    "x_train = [[1., 2.],\n",
    "          [2., 3.],\n",
    "          [3., 1.],\n",
    "          [4., 3.],\n",
    "          [5., 3.],\n",
    "          [6., 2.]]\n",
    "y_train = [[0.],\n",
    "          [0.],\n",
    "          [0.],\n",
    "          [1.],\n",
    "          [1.],\n",
    "          [1.]]\n",
    "\n",
    "x_test = [[5.,2.]]\n",
    "y_test = [[1.]]\n",
    "\n",
    "\n",
    "dataset = tf.data.Dataset.from_tensor_slices((x_train, y_train)).batch(len(x_train))\n",
    "\n",
    "\n",
    "W = tf.Variable(tf.zeros([2,1]), name='weight')\n",
    "b = tf.Variable(tf.zeros([1]), name='bias')"
   ]
  },
  {
   "cell_type": "code",
   "execution_count": 21,
   "metadata": {},
   "outputs": [],
   "source": [
    "def logistic_regression(features):\n",
    "    H = tf.divide(1.,1.+tf.exp(tf.matmul(features, W)+b))\n",
    "    return H"
   ]
  },
  {
   "cell_type": "code",
   "execution_count": 22,
   "metadata": {},
   "outputs": [],
   "source": [
    "def loss_fn(H, labels):\n",
    "    cost = -tf.reduce_mean(labels*tf.math.log(H)+(1-labels)*tf.math.log(1-H))\n",
    "    return cost"
   ]
  },
  {
   "cell_type": "code",
   "execution_count": 23,
   "metadata": {},
   "outputs": [],
   "source": [
    "def grad(features, labels):\n",
    "    with tf.GradientTape() as tape:\n",
    "        loss_value = loss_fn(logistic_regression(features),labels)\n",
    "    return tape.gradient(loss_value, [W,b])\n",
    "\n",
    "optimizer = tf.train.GradientDescentOptimizer(learning_rate=0.01)"
   ]
  },
  {
   "cell_type": "code",
   "execution_count": 27,
   "metadata": {},
   "outputs": [
    {
     "name": "stdout",
     "output_type": "stream",
     "text": [
      "Iter: 0, Loss: 0.3494\n",
      "Iter: 100, Loss: 0.3440\n",
      "Iter: 200, Loss: 0.3388\n",
      "Iter: 300, Loss: 0.3337\n",
      "Iter: 400, Loss: 0.3287\n",
      "Iter: 500, Loss: 0.3238\n",
      "Iter: 600, Loss: 0.3191\n",
      "Iter: 700, Loss: 0.3145\n",
      "Iter: 800, Loss: 0.3100\n",
      "Iter: 900, Loss: 0.3056\n",
      "Iter: 1000, Loss: 0.3013\n",
      "Testset Accuracy: 1.0000\n"
     ]
    }
   ],
   "source": [
    "EPOCHS = 1001\n",
    "\n",
    "for step in range(EPOCHS):\n",
    "    for features, labels  in iter(dataset):\n",
    "        grads = grad(features, labels)\n",
    "        optimizer.apply_gradients(grads_and_vars=zip(grads,[W,b]))\n",
    "        if step % 100 == 0:\n",
    "            print(\"Iter: {}, Loss: {:.4f}\".format(step, loss_fn(logistic_regression(features),features,labels)))\n",
    "test_acc = accuracy_fn(logistic_regression(x_test),y_test)\n",
    "print(\"Testset Accuracy: {:.4f}\".format(test_acc))"
   ]
  },
  {
   "cell_type": "code",
   "execution_count": 25,
   "metadata": {},
   "outputs": [],
   "source": [
    "def accuracy_fn(hypothesis, labels):\n",
    "    predicted = tf.cast(hypothesis > 0.5, dtype=tf.float32)\n",
    "    accuracy = tf.reduce_mean(tf.cast(tf.equal(predicted, labels), dtype=tf.int32))\n",
    "    return accuracy"
   ]
  },
  {
   "cell_type": "code",
   "execution_count": null,
   "metadata": {},
   "outputs": [],
   "source": []
  },
  {
   "cell_type": "code",
   "execution_count": null,
   "metadata": {},
   "outputs": [],
   "source": []
  },
  {
   "cell_type": "markdown",
   "metadata": {},
   "source": [
    "## Softmax Regression"
   ]
  },
  {
   "cell_type": "code",
   "execution_count": 3,
   "metadata": {},
   "outputs": [],
   "source": [
    "\n",
    "x_data = [[1, 2, 1, 1],\n",
    "          [2, 1, 3, 2],\n",
    "          [3, 1, 3, 4],\n",
    "          [4, 1, 5, 5],\n",
    "          [1, 7, 5, 5],\n",
    "          [1, 2, 5, 6],\n",
    "          [1, 6, 6, 6],\n",
    "          [1, 7, 7, 7]]\n",
    "y_data = [[0, 0, 1],\n",
    "          [0, 0, 1],\n",
    "          [0, 0, 1],\n",
    "          [0, 1, 0],\n",
    "          [0, 1, 0],\n",
    "          [0, 1, 0],\n",
    "          [1, 0, 0],\n",
    "          [1, 0, 0]]\n",
    "\n",
    "#convert into numpy and float format\n",
    "x_data = np.asarray(x_data, dtype=np.float32)\n",
    "y_data = np.asarray(y_data, dtype=np.float32)"
   ]
  },
  {
   "cell_type": "code",
   "execution_count": 4,
   "metadata": {},
   "outputs": [],
   "source": [
    "nb_classes = 3"
   ]
  },
  {
   "cell_type": "code",
   "execution_count": 7,
   "metadata": {},
   "outputs": [
    {
     "name": "stdout",
     "output_type": "stream",
     "text": [
      "<tf.Variable 'weight:0' shape=(4, 3) dtype=float32, numpy=\n",
      "array([[ 0.40729985, -0.73095536, -0.55600214],\n",
      "       [-0.96231914,  0.26695555,  2.4163544 ],\n",
      "       [-1.3048412 ,  1.2742552 , -0.80840886],\n",
      "       [-0.6584339 , -0.40664473,  0.45623916]], dtype=float32)> <tf.Variable 'bias:0' shape=(1, 3) dtype=float32, numpy=array([[0.5525866 , 0.659154  , 0.07595671]], dtype=float32)>\n"
     ]
    }
   ],
   "source": [
    "W = tf.Variable(tf.random.normal((4, nb_classes)),name = 'weight')\n",
    "b = tf.Variable(tf.random.normal((1,nb_classes)),name='bias')\n",
    "variables = [W,b]\n",
    "print(W,b)"
   ]
  },
  {
   "cell_type": "code",
   "execution_count": 8,
   "metadata": {},
   "outputs": [
    {
     "name": "stdout",
     "output_type": "stream",
     "text": [
      "tf.Tensor(\n",
      "[[9.1521977e-04 6.4660877e-02 9.3442386e-01]\n",
      " [6.2857772e-04 9.3066877e-01 6.8702608e-02]\n",
      " [8.5212773e-04 6.6881251e-01 3.3033538e-01]\n",
      " [1.7406224e-05 9.7879457e-01 2.1188013e-02]\n",
      " [7.1684249e-14 1.9571670e-04 9.9980432e-01]\n",
      " [1.0550339e-07 7.9338682e-01 2.0661312e-01]\n",
      " [4.1753309e-13 5.6554205e-03 9.9434459e-01]\n",
      " [2.8519875e-15 2.2398906e-03 9.9776006e-01]], shape=(8, 3), dtype=float32)\n"
     ]
    }
   ],
   "source": [
    "# softmax = exp(logits) / reduce_sum(exp(logits), dim)\n",
    "def hypothesis(X):\n",
    "    return tf.nn.softmax(tf.matmul(X,W)+b)\n",
    "\n",
    "print(hypothesis(x_data))"
   ]
  },
  {
   "cell_type": "code",
   "execution_count": 9,
   "metadata": {},
   "outputs": [],
   "source": [
    "sample_db = [[8,2,1,4]]\n",
    "sample_db = np.asarray(sample_db, dtype=np.float32)"
   ]
  },
  {
   "cell_type": "code",
   "execution_count": 11,
   "metadata": {},
   "outputs": [
    {
     "name": "stdout",
     "output_type": "stream",
     "text": [
      "tf.Tensor(9.330042, shape=(), dtype=float32)\n"
     ]
    }
   ],
   "source": [
    "def cost_fn(X,Y):\n",
    "    logits = hypothesis(X)\n",
    "    cost = -tf.reduce_sum(Y*tf.math.log(logits),axis=1)\n",
    "    cost_mean =  tf.reduce_mean(cost)\n",
    "    \n",
    "    return cost_mean\n",
    "\n",
    "print(cost_fn(x_data,y_data))"
   ]
  },
  {
   "cell_type": "code",
   "execution_count": 13,
   "metadata": {},
   "outputs": [
    {
     "name": "stdout",
     "output_type": "stream",
     "text": [
      "tf.Tensor(6.0, shape=(), dtype=float32)\n"
     ]
    }
   ],
   "source": [
    "x = tf.constant(3.0)\n",
    "\n",
    "with tf.GradientTape() as tape:\n",
    "    tape.watch(x)   # 상수형 텐서를 변수형 텐서처럼 바꿔준다.\n",
    "    y= x*x      # 미분하면 2x니까 x에 3을 넣으면 6이 된다는 것을 보여주는 예시\n",
    "    \n",
    "dy_dx = tape.gradient(y,x)\n",
    "print(dy_dx)"
   ]
  },
  {
   "cell_type": "code",
   "execution_count": 14,
   "metadata": {},
   "outputs": [
    {
     "name": "stdout",
     "output_type": "stream",
     "text": [
      "[<tf.Tensor: id=138, shape=(4, 3), dtype=float32, numpy=\n",
      "array([[-0.24940018,  0.33113652, -0.08173636],\n",
      "       [-1.6245838 , -0.70683086,  2.3314147 ],\n",
      "       [-1.6243193 , -0.15317476,  1.7774941 ],\n",
      "       [-1.6242914 , -0.21173342,  1.8360248 ]], dtype=float32)>, <tf.Tensor: id=137, shape=(1, 3), dtype=float32, numpy=array([[-0.24969831,  0.05555181,  0.19414648]], dtype=float32)>]\n"
     ]
    }
   ],
   "source": [
    "def grad_fn(X,Y):\n",
    "    with tf.GradientTape() as tape:\n",
    "        loss = cost_fn(X,Y)\n",
    "        grads = tape.gradient(loss,variables)\n",
    "        \n",
    "        return grads\n",
    "\n",
    "print(grad_fn(x_data,y_data))"
   ]
  },
  {
   "cell_type": "code",
   "execution_count": 17,
   "metadata": {},
   "outputs": [
    {
     "name": "stdout",
     "output_type": "stream",
     "text": [
      "Loss at epoch 1: 6.059923\n",
      "Loss at epoch 100: 0.751996\n",
      "Loss at epoch 200: 0.655748\n",
      "Loss at epoch 300: 0.593954\n",
      "Loss at epoch 400: 0.542366\n",
      "Loss at epoch 500: 0.494552\n",
      "Loss at epoch 600: 0.448283\n",
      "Loss at epoch 700: 0.402605\n",
      "Loss at epoch 800: 0.357078\n",
      "Loss at epoch 900: 0.311737\n",
      "Loss at epoch 1000: 0.268408\n",
      "Loss at epoch 1100: 0.239998\n",
      "Loss at epoch 1200: 0.227840\n",
      "Loss at epoch 1300: 0.217095\n",
      "Loss at epoch 1400: 0.207273\n",
      "Loss at epoch 1500: 0.198263\n",
      "Loss at epoch 1600: 0.189970\n",
      "Loss at epoch 1700: 0.182313\n",
      "Loss at epoch 1800: 0.175224\n",
      "Loss at epoch 1900: 0.168643\n",
      "Loss at epoch 2000: 0.162518\n"
     ]
    }
   ],
   "source": [
    "def fit(X,Y, epochs=2000,verbose=100):\n",
    "    optimizer = tf.train.GradientDescentOptimizer(learning_rate=0.1)\n",
    "    \n",
    "    for i in range(epochs):\n",
    "        grads = grad_fn(X,Y)\n",
    "        optimizer.apply_gradients(zip(grads, variables))\n",
    "        if(i==0) | ((i+1)%verbose ==0):\n",
    "            print(\"Loss at epoch %d: %f\" %(i+1,cost_fn(X,Y).numpy()))\n",
    "            \n",
    "fit(x_data, y_data)"
   ]
  },
  {
   "cell_type": "code",
   "execution_count": null,
   "metadata": {},
   "outputs": [],
   "source": []
  },
  {
   "cell_type": "markdown",
   "metadata": {},
   "source": [
    "## softmax classifier"
   ]
  },
  {
   "cell_type": "code",
   "execution_count": 70,
   "metadata": {},
   "outputs": [],
   "source": [
    "xy = np.loadtxt('data_04_zoo.csv', delimiter=',', dtype=np.float32)"
   ]
  },
  {
   "cell_type": "code",
   "execution_count": 20,
   "metadata": {},
   "outputs": [
    {
     "data": {
      "text/plain": [
       "array([[1., 0., 0., ..., 0., 1., 0.],\n",
       "       [1., 0., 0., ..., 0., 1., 0.],\n",
       "       [0., 0., 1., ..., 0., 0., 3.],\n",
       "       ...,\n",
       "       [1., 0., 0., ..., 0., 1., 0.],\n",
       "       [0., 0., 1., ..., 0., 0., 6.],\n",
       "       [0., 1., 1., ..., 0., 0., 1.]], dtype=float32)"
      ]
     },
     "execution_count": 20,
     "metadata": {},
     "output_type": "execute_result"
    }
   ],
   "source": [
    "xy"
   ]
  },
  {
   "cell_type": "code",
   "execution_count": 21,
   "metadata": {},
   "outputs": [],
   "source": [
    "x_data = xy[:, 0:-1]\n",
    "y_data = xy[:, -1]  # 데이터는 y가 원핫이 아니다 \n",
    "\n"
   ]
  },
  {
   "cell_type": "code",
   "execution_count": 26,
   "metadata": {},
   "outputs": [],
   "source": [
    "nb_classes = 7  # y 데이터가 0~6까지의 값으로 구분되어 있다\n",
    "Y_one_hot = tf.one_hot(y_data.astype(np.int32), nb_classes)"
   ]
  },
  {
   "cell_type": "code",
   "execution_count": 43,
   "metadata": {},
   "outputs": [],
   "source": [
    "W = tf.Variable(tf.random.normal((16,nb_classes)),name='weight')  #17-1\n",
    "b = tf.Variable(tf.random.normal((nb_classes,)),name='bias')\n",
    "variables = [W,b]"
   ]
  },
  {
   "cell_type": "code",
   "execution_count": 44,
   "metadata": {},
   "outputs": [],
   "source": [
    "def logit_fn(X):\n",
    "    return tf.matmul(X,W) + b\n",
    "\n",
    "def hypothesis(X):\n",
    "    return tf.nn.softmax(logit_fn(X))\n",
    "\n",
    "def cost_fn(X,Y):\n",
    "    logits = logit_fn(X)\n",
    "    cost_i = tf.nn.softmax_cross_entropy_with_logits_v2(logits=logits,\n",
    "                                                       labels=Y)\n",
    "    cost = tf.reduce_mean(cost_i)\n",
    "    return cost\n",
    "\n",
    "def grad_fn(X,Y):\n",
    "    with tf.GradientTape() as tape:\n",
    "        loss = cost_fn(X,Y)\n",
    "        grads = tape.gradient(loss,variables)\n",
    "        return grads\n",
    "    \n",
    "def prediction(X,Y):\n",
    "    pred = tf.argmax(hypothesis(X),1)\n",
    "    correct_prediction = tf.equal(pred, tf.argmax(Y,1))\n",
    "    accuracy = tf.reduce_mean(tf.cast(correct_prediction, tf.float32))\n",
    "    \n",
    "    return accuracy\n",
    "    "
   ]
  },
  {
   "cell_type": "code",
   "execution_count": 48,
   "metadata": {},
   "outputs": [
    {
     "name": "stdout",
     "output_type": "stream",
     "text": [
      "Steps: 1 Loss: 0.41749024391174316, Acc: 0.8613861203193665\n",
      "Steps: 100 Loss: 0.4039740562438965, Acc: 0.8613861203193665\n",
      "Steps: 200 Loss: 0.3911203444004059, Acc: 0.8910890817642212\n",
      "Steps: 300 Loss: 0.3789897859096527, Acc: 0.9009901285171509\n",
      "Steps: 400 Loss: 0.36751440167427063, Acc: 0.9009901285171509\n",
      "Steps: 500 Loss: 0.3566357493400574, Acc: 0.9009901285171509\n",
      "Steps: 600 Loss: 0.34630370140075684, Acc: 0.9009901285171509\n",
      "Steps: 700 Loss: 0.3364744186401367, Acc: 0.9009901285171509\n",
      "Steps: 800 Loss: 0.327109694480896, Acc: 0.9009901285171509\n",
      "Steps: 900 Loss: 0.318175733089447, Acc: 0.9009901285171509\n",
      "Steps: 1000 Loss: 0.3096427619457245, Acc: 0.9108911156654358\n"
     ]
    }
   ],
   "source": [
    "def fit(X,Y,epochs=1000,verbose=100):\n",
    "    optimizer = tf.train.GradientDescentOptimizer(learning_rate=0.01)\n",
    "    \n",
    "    for i in range(epochs):\n",
    "        grads = grad_fn(X,Y)\n",
    "        optimizer.apply_gradients(zip(grads, variables))\n",
    "        if (i==0) | ((i+1)%verbose==0):\n",
    "\n",
    "            acc = prediction(X, Y).numpy()\n",
    "            loss = cost_fn(X, Y).numpy() \n",
    "            print('Steps: {} Loss: {}, Acc: {}'.format(i+1, loss, acc))\n",
    "\n",
    "fit(x_data, Y_one_hot)"
   ]
  },
  {
   "cell_type": "code",
   "execution_count": null,
   "metadata": {},
   "outputs": [],
   "source": []
  },
  {
   "cell_type": "code",
   "execution_count": null,
   "metadata": {},
   "outputs": [],
   "source": []
  },
  {
   "cell_type": "code",
   "execution_count": null,
   "metadata": {},
   "outputs": [],
   "source": []
  },
  {
   "cell_type": "markdown",
   "metadata": {},
   "source": [
    "## 오버피팅 방지"
   ]
  },
  {
   "cell_type": "code",
   "execution_count": 51,
   "metadata": {},
   "outputs": [
    {
     "data": {
      "image/png": "[encoded data removed]",
      "text/plain": [
       "<Figure size 432x288 with 1 Axes>"
      ]
     },
     "metadata": {
      "needs_background": "light"
     },
     "output_type": "display_data"
    }
   ],
   "source": [
    "xy = np.array([[828.659973, 833.450012, 908100, 828.349976, 831.659973],\n",
    "               [823.02002, 828.070007, 1828100, 821.655029, 828.070007],\n",
    "               [819.929993, 824.400024, 1438100, 818.97998, 824.159973],\n",
    "               [816, 820.958984, 1008100, 815.48999, 819.23999],\n",
    "               [819.359985, 823, 1188100, 818.469971, 818.97998],\n",
    "               [819, 823, 1198100, 816, 820.450012],\n",
    "               [811.700012, 815.25, 1098100, 809.780029, 813.669983],\n",
    "               [809.51001, 816.659973, 1398100, 804.539978, 809.559998]])\n",
    "\n",
    "x_train = xy[:, 0:-1]\n",
    "y_train = xy[:, [-1]]\n",
    "\n",
    "plt.plot(x_train, 'ro')\n",
    "plt.plot(y_train)\n",
    "plt.show()"
   ]
  },
  {
   "cell_type": "markdown",
   "metadata": {},
   "source": [
    "데이터 크기의 격차가 너무 크기 때문에 정규화를 해주자"
   ]
  },
  {
   "cell_type": "code",
   "execution_count": 53,
   "metadata": {},
   "outputs": [],
   "source": [
    "def normalization(data):\n",
    "    numerator = data - np.min(data,0)\n",
    "    denominator = np.max(data,0) - np.min(data,0)\n",
    "    return numerator / denominator"
   ]
  },
  {
   "cell_type": "code",
   "execution_count": 55,
   "metadata": {},
   "outputs": [],
   "source": [
    "xy = normalization(xy)"
   ]
  },
  {
   "cell_type": "code",
   "execution_count": 61,
   "metadata": {},
   "outputs": [
    {
     "data": {
      "image/png": "[encoded data removed]",
      "text/plain": [
       "<Figure size 432x288 with 1 Axes>"
      ]
     },
     "metadata": {
      "needs_background": "light"
     },
     "output_type": "display_data"
    }
   ],
   "source": [
    "x_train = xy[:, 0:-1]\n",
    "y_train = xy[:, [-1]]\n",
    "\n",
    "plt.plot(x_train, 'ro')\n",
    "plt.plot(y_train)\n",
    "plt.title(\"nomalization\")\n",
    "plt.show()"
   ]
  },
  {
   "cell_type": "code",
   "execution_count": null,
   "metadata": {},
   "outputs": [],
   "source": []
  },
  {
   "cell_type": "code",
   "execution_count": 66,
   "metadata": {},
   "outputs": [],
   "source": [
    "dataset = tf.data.Dataset.from_tensor_slices((x_train, y_train)).batch(len(x_train))"
   ]
  },
  {
   "cell_type": "code",
   "execution_count": 68,
   "metadata": {},
   "outputs": [],
   "source": [
    "W = tf.Variable(tf.random_normal([4,1]),dtype=tf.float32)\n",
    "b = tf.Variable(tf.random_normal([1]),dtype=tf.float32)"
   ]
  },
  {
   "cell_type": "code",
   "execution_count": 84,
   "metadata": {},
   "outputs": [],
   "source": [
    "def linearReg_fn(features):\n",
    "    H = tf.matmul(features,W)+b\n",
    "    return H\n",
    "\n",
    "def l2_loss(loss,beta=0.01):\n",
    "    W_reg = tf.nn.l2_loss(W)\n",
    "    loss=tf.reduce_mean(loss + W_reg * beta)\n",
    "    return loss\n",
    "    \n",
    "\n",
    "def loss_fn(H,labels,flag = False):\n",
    "    cost = tf.reduce_mean(tf.square(H-labels))\n",
    "    if(flag):\n",
    "        cost = l2_loss(cost)\n",
    "    return cost\n"
   ]
  },
  {
   "cell_type": "code",
   "execution_count": 95,
   "metadata": {},
   "outputs": [],
   "source": [
    "is_decay = True\n",
    "starter_learning_rate=0.1\n",
    "\n",
    "if(is_decay):\n",
    "    global_step = tf.Variable(0, trainable = False)\n",
    "    learning_rate = tf.train.exponential_decay(starter_learning_rate, global_step, 50, 0.96, staircase=True)\n",
    "    optimizer = tf.train.GradientDescentOptimizer(learning_rate)\n",
    "else:\n",
    "    optimizer = tf.train.GradientDescentOptimizer(learning_rate=starter_learning_rate)\n"
   ]
  },
  {
   "cell_type": "code",
   "execution_count": 96,
   "metadata": {},
   "outputs": [],
   "source": [
    "def grad(features, labels, l2_flag):\n",
    "    with tf.GradientTape() as tape:\n",
    "        loss_value = loss_fn(linearReg_fn(features),labels, l2_flag)\n",
    "    return tape.gradient(loss_value,[W,b]),loss_value"
   ]
  },
  {
   "cell_type": "code",
   "execution_count": 97,
   "metadata": {},
   "outputs": [
    {
     "name": "stdout",
     "output_type": "stream",
     "text": [
      "Iter: 0, Loss: 0.0122, Learning Rate : 0.10000000\n",
      "Iter: 10, Loss: 0.0121, Learning Rate : 0.10000000\n",
      "Iter: 20, Loss: 0.0120, Learning Rate : 0.10000000\n",
      "Iter: 30, Loss: 0.0119, Learning Rate : 0.10000000\n",
      "Iter: 40, Loss: 0.0117, Learning Rate : 0.10000000\n",
      "Iter: 50, Loss: 0.0116, Learning Rate : 0.09600000\n",
      "Iter: 60, Loss: 0.0115, Learning Rate : 0.09600000\n",
      "Iter: 70, Loss: 0.0114, Learning Rate : 0.09600000\n",
      "Iter: 80, Loss: 0.0113, Learning Rate : 0.09600000\n",
      "Iter: 90, Loss: 0.0112, Learning Rate : 0.09600000\n",
      "Iter: 100, Loss: 0.0111, Learning Rate : 0.09216000\n"
     ]
    }
   ],
   "source": [
    "EPOCHS = 101\n",
    "\n",
    "for step in range(EPOCHS):\n",
    "    for features, labels in dataset:\n",
    "        features = tf.cast(features, tf.float32)\n",
    "        labels = tf.cast(labels, tf.float32)\n",
    "        grads, loss_value = grad(features, labels, False)\n",
    "        optimizer.apply_gradients(grads_and_vars=zip(grads,[W,b]), global_step=global_step)\n",
    "    if step % 10 == 0:\n",
    "        print(\"Iter: {}, Loss: {:2.4f}, Learning Rate : {:2.8f}\".format(step, loss_value, optimizer._learning_rate()))"
   ]
  },
  {
   "cell_type": "code",
   "execution_count": null,
   "metadata": {},
   "outputs": [],
   "source": []
  },
  {
   "cell_type": "code",
   "execution_count": null,
   "metadata": {},
   "outputs": [],
   "source": []
  },
  {
   "cell_type": "code",
   "execution_count": 260,
   "metadata": {},
   "outputs": [],
   "source": [
    "fashion_mnist=tf.keras.datasets.fashion_mnist"
   ]
  },
  {
   "cell_type": "code",
   "execution_count": 263,
   "metadata": {},
   "outputs": [],
   "source": [
    "(train_images, train_labels),(test_images,test_labels) = fashion_mnist.load_data()"
   ]
  },
  {
   "cell_type": "code",
   "execution_count": 264,
   "metadata": {},
   "outputs": [],
   "source": [
    "class_names = ['T-shirt/top','Trouser','Pullover','Dress','Coat','Sandal','Shirt','Sneaker','Bag','Ankle boot']"
   ]
  },
  {
   "cell_type": "code",
   "execution_count": 283,
   "metadata": {},
   "outputs": [],
   "source": [
    "train_images = train_images /255.0\n",
    "test_images = test_images /255.0"
   ]
  },
  {
   "cell_type": "code",
   "execution_count": 269,
   "metadata": {},
   "outputs": [],
   "source": [
    "model = tf.keras.Sequential([\n",
    "    tf.keras.layers.Flatten(input_shape=(28,28)),\n",
    "    tf.keras.layers.Dense(128,activation=tf.nn.relu),\n",
    "    tf.keras.layers.Dense(10,activation=tf.nn.softmax)\n",
    "])"
   ]
  },
  {
   "cell_type": "code",
   "execution_count": 271,
   "metadata": {},
   "outputs": [],
   "source": [
    "model.compile(optimizer='adam',\n",
    "             loss='sparse_categorical_crossentropy',\n",
    "             metrics=['accuracy'])"
   ]
  },
  {
   "cell_type": "code",
   "execution_count": 273,
   "metadata": {},
   "outputs": [
    {
     "name": "stdout",
     "output_type": "stream",
     "text": [
      "Train on 60000 samples\n",
      "Epoch 1/5\n",
      "60000/60000 [==============================] - 19s 316us/sample - loss: 0.4969 - acc: 0.8257\n",
      "Epoch 2/5\n",
      "60000/60000 [==============================] - 17s 281us/sample - loss: 0.3726 - acc: 0.8664\n",
      "Epoch 3/5\n",
      "60000/60000 [==============================] - 18s 292us/sample - loss: 0.3340 - acc: 0.8776\n",
      "Epoch 4/5\n",
      "60000/60000 [==============================] - 6s 105us/sample - loss: 0.3080 - acc: 0.8865\n",
      "Epoch 5/5\n",
      "60000/60000 [==============================] - 5s 87us/sample - loss: 0.2926 - acc: 0.8924\n"
     ]
    },
    {
     "data": {
      "text/plain": [
       "<tensorflow.python.keras.callbacks.History at 0x2429b2df5f8>"
      ]
     },
     "execution_count": 273,
     "metadata": {},
     "output_type": "execute_result"
    }
   ],
   "source": [
    "model.fit(train_images,train_labels,epochs=5)"
   ]
  },
  {
   "cell_type": "code",
   "execution_count": null,
   "metadata": {},
   "outputs": [],
   "source": [
    "test_loss,test_acc = model.evaluate(test_images, test_labels)"
   ]
  },
  {
   "cell_type": "code",
   "execution_count": 275,
   "metadata": {},
   "outputs": [],
   "source": [
    "predictions = model.predict(test_images)"
   ]
  },
  {
   "cell_type": "code",
   "execution_count": 276,
   "metadata": {},
   "outputs": [
    {
     "data": {
      "text/plain": [
       "9"
      ]
     },
     "execution_count": 276,
     "metadata": {},
     "output_type": "execute_result"
    }
   ],
   "source": [
    "np.argmax(predictions[0])"
   ]
  },
  {
   "cell_type": "code",
   "execution_count": null,
   "metadata": {},
   "outputs": [],
   "source": []
  }
 ],
 "metadata": {
  "kernelspec": {
   "display_name": "jw_tensorflow",
   "language": "python",
   "name": "jw_tensorflow"
  },
  "language_info": {
   "codemirror_mode": {
    "name": "ipython",
    "version": 3
   },
   "file_extension": ".py",
   "mimetype": "text/x-python",
   "name": "python",
   "nbconvert_exporter": "python",
   "pygments_lexer": "ipython3",
   "version": "3.6.5"
  }
 },
 "nbformat": 4,
 "nbformat_minor": 2
}
