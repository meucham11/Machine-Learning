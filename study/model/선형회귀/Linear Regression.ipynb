{
 "cells": [
  {
   "cell_type": "code",
   "execution_count": 2,
   "metadata": {},
   "outputs": [],
   "source": [
    "from sklearn.datasets import load_boston\n",
    "import matplotlib.pyplot as plt\n",
    "import numpy as np"
   ]
  },
  {
   "cell_type": "code",
   "execution_count": 4,
   "metadata": {},
   "outputs": [
    {
     "data": {
      "text/plain": [
       "array([[6.3200e-03, 1.8000e+01, 2.3100e+00, ..., 1.5300e+01, 3.9690e+02,\n",
       "        4.9800e+00],\n",
       "       [2.7310e-02, 0.0000e+00, 7.0700e+00, ..., 1.7800e+01, 3.9690e+02,\n",
       "        9.1400e+00],\n",
       "       [2.7290e-02, 0.0000e+00, 7.0700e+00, ..., 1.7800e+01, 3.9283e+02,\n",
       "        4.0300e+00],\n",
       "       ...,\n",
       "       [6.0760e-02, 0.0000e+00, 1.1930e+01, ..., 2.1000e+01, 3.9690e+02,\n",
       "        5.6400e+00],\n",
       "       [1.0959e-01, 0.0000e+00, 1.1930e+01, ..., 2.1000e+01, 3.9345e+02,\n",
       "        6.4800e+00],\n",
       "       [4.7410e-02, 0.0000e+00, 1.1930e+01, ..., 2.1000e+01, 3.9690e+02,\n",
       "        7.8800e+00]])"
      ]
     },
     "execution_count": 4,
     "metadata": {},
     "output_type": "execute_result"
    }
   ],
   "source": [
    "boston = load_boston()\n",
    "boston[\"data\"]"
   ]
  },
  {
   "cell_type": "code",
   "execution_count": 10,
   "metadata": {},
   "outputs": [
    {
     "data": {
      "text/plain": [
       "dict_keys(['data', 'target', 'feature_names', 'DESCR', 'filename'])"
      ]
     },
     "execution_count": 10,
     "metadata": {},
     "output_type": "execute_result"
    }
   ],
   "source": [
    "boston.keys()"
   ]
  },
  {
   "cell_type": "code",
   "execution_count": 5,
   "metadata": {},
   "outputs": [],
   "source": [
    "x_data = boston.data\n",
    "y_data = boston.target.reshape(boston.target.size,1)"
   ]
  },
  {
   "cell_type": "code",
   "execution_count": 6,
   "metadata": {},
   "outputs": [
    {
     "data": {
      "text/plain": [
       "(506, 1)"
      ]
     },
     "execution_count": 6,
     "metadata": {},
     "output_type": "execute_result"
    }
   ],
   "source": [
    "y_data.shape"
   ]
  },
  {
   "cell_type": "code",
   "execution_count": 7,
   "metadata": {},
   "outputs": [
    {
     "data": {
      "text/plain": [
       "array([[0.00000000e+00, 9.00000000e-01, 3.39076246e-01, 0.00000000e+00,\n",
       "        1.57407407e+00, 2.88752635e+00, 3.20803296e+00, 1.34601570e+00,\n",
       "        0.00000000e+00, 1.04007634e+00, 1.43617021e+00, 5.00000000e+00,\n",
       "        4.48399558e-01],\n",
       "       [1.17961270e-03, 0.00000000e+00, 1.21151026e+00, 0.00000000e+00,\n",
       "        8.64197531e-01, 2.73998850e+00, 3.91349125e+00, 1.74480990e+00,\n",
       "        2.17391304e-01, 5.24809160e-01, 2.76595745e+00, 5.00000000e+00,\n",
       "        1.02235099e+00],\n",
       "       [1.17848872e-03, 0.00000000e+00, 1.21151026e+00, 0.00000000e+00,\n",
       "        8.64197531e-01, 3.47192949e+00, 2.99691040e+00, 1.74480990e+00,\n",
       "        2.17391304e-01, 5.24809160e-01, 2.76595745e+00, 4.94868627e+00,\n",
       "        3.17328918e-01]])"
      ]
     },
     "execution_count": 7,
     "metadata": {},
     "output_type": "execute_result"
    }
   ],
   "source": [
    "from sklearn import preprocessing\n",
    "\n",
    "\n",
    "# 스케일링\n",
    "minmax_scale = preprocessing.MinMaxScaler(feature_range=(0,5)).fit(x_data)\n",
    "# standard_scale = preprocessing.StandardScaler().fit(x_data)\n",
    "x_scaled_data = minmax_scale.transform(x_data)\n",
    "\n",
    "x_scaled_data[:3]"
   ]
  },
  {
   "cell_type": "code",
   "execution_count": 38,
   "metadata": {},
   "outputs": [],
   "source": [
    "from sklearn.model_selection import train_test_split\n",
    "\n",
    "# train test 데이터 생성\n",
    "X_train, X_test, y_train, y_test = train_test_split(x_scaled_data, y_data, test_size=0.33)"
   ]
  },
  {
   "cell_type": "code",
   "execution_count": 39,
   "metadata": {},
   "outputs": [
    {
     "data": {
      "text/plain": [
       "((339, 13), (167, 13), (339, 1), (167, 1))"
      ]
     },
     "execution_count": 39,
     "metadata": {},
     "output_type": "execute_result"
    }
   ],
   "source": [
    "X_train.shape, X_test.shape, y_train.shape, y_test.shape"
   ]
  },
  {
   "cell_type": "code",
   "execution_count": 29,
   "metadata": {},
   "outputs": [
    {
     "data": {
      "text/plain": [
       "LinearRegression(copy_X=True, fit_intercept=True, n_jobs=8, normalize=False)"
      ]
     },
     "execution_count": 29,
     "metadata": {},
     "output_type": "execute_result"
    }
   ],
   "source": [
    "from sklearn import linear_model\n",
    "regr = linear_model.LinearRegression(fit_intercept=True,    # 상수항을 넣을건지 말건지\n",
    "                                     normalize=False,       # 이미 스케일링 했으므로 False\n",
    "                                     copy_X=True,           # 복사해서 작업\n",
    "                                     n_jobs=8)              # cpu를 몇개 쓸껀가\n",
    "regr.fit(X_train, y_train)   #모델이 생성된다.\n",
    "regr"
   ]
  },
  {
   "cell_type": "code",
   "execution_count": 30,
   "metadata": {},
   "outputs": [
    {
     "data": {
      "text/plain": [
       "(array([[-1.83461064,  1.09381048,  0.02616482,  0.35794312, -2.1384334 ,\n",
       "          3.2163187 ,  0.21587634, -3.68063499,  1.32540932, -1.14074851,\n",
       "         -1.68714481,  0.55496177, -4.17614968]]), array([30.33244195]))"
      ]
     },
     "execution_count": 30,
     "metadata": {},
     "output_type": "execute_result"
    }
   ],
   "source": [
    "regr.coef_ , regr.intercept_"
   ]
  },
  {
   "cell_type": "code",
   "execution_count": 31,
   "metadata": {},
   "outputs": [
    {
     "name": "stdout",
     "output_type": "stream",
     "text": [
      "Coefficients:  [[-1.83461064  1.09381048  0.02616482  0.35794312 -2.1384334   3.2163187\n",
      "   0.21587634 -3.68063499  1.32540932 -1.14074851 -1.68714481  0.55496177\n",
      "  -4.17614968]]\n",
      "intercept:  [30.33244195]\n"
     ]
    }
   ],
   "source": [
    "# # The coefficients\n",
    "print('Coefficients: ', regr.coef_)\n",
    "print('intercept: ', regr.intercept_)"
   ]
  },
  {
   "cell_type": "code",
   "execution_count": 41,
   "metadata": {},
   "outputs": [
    {
     "data": {
      "text/plain": [
       "array([[21.33087892],\n",
       "       [18.14505618],\n",
       "       [21.27737327],\n",
       "       [20.40572718],\n",
       "       [23.6117079 ],\n",
       "       [12.63775288],\n",
       "       [20.43221515],\n",
       "       [14.98022872],\n",
       "       [16.7041763 ],\n",
       "       [15.15987247],\n",
       "       [28.94016063],\n",
       "       [18.4619646 ],\n",
       "       [30.93824718],\n",
       "       [28.40178314],\n",
       "       [20.73280762],\n",
       "       [23.1382519 ],\n",
       "       [31.93566428],\n",
       "       [27.09378331],\n",
       "       [35.60596129],\n",
       "       [33.98022921],\n",
       "       [23.2250539 ],\n",
       "       [26.91464641],\n",
       "       [25.10432851],\n",
       "       [31.24866829],\n",
       "       [16.33138756],\n",
       "       [20.23242879],\n",
       "       [17.01274873],\n",
       "       [22.56286596],\n",
       "       [36.82675153],\n",
       "       [ 6.91867639],\n",
       "       [30.58329235],\n",
       "       [30.73858435],\n",
       "       [34.32192783],\n",
       "       [34.02298639],\n",
       "       [21.52726472],\n",
       "       [16.67073894],\n",
       "       [20.20194968],\n",
       "       [18.80483818],\n",
       "       [26.82320066],\n",
       "       [33.24767001],\n",
       "       [22.53196797],\n",
       "       [25.61820324],\n",
       "       [34.65938092],\n",
       "       [ 8.21617492],\n",
       "       [19.01469969],\n",
       "       [25.10577609],\n",
       "       [21.32751855],\n",
       "       [19.20140987],\n",
       "       [16.92391634],\n",
       "       [19.57695735],\n",
       "       [10.38125973],\n",
       "       [19.88490053],\n",
       "       [24.39021778],\n",
       "       [11.06646423],\n",
       "       [25.70698884],\n",
       "       [17.96009371],\n",
       "       [27.41465647],\n",
       "       [39.82757114],\n",
       "       [27.93592983],\n",
       "       [31.40853357],\n",
       "       [19.38167956],\n",
       "       [27.30631494],\n",
       "       [35.7727456 ],\n",
       "       [ 7.52564281],\n",
       "       [24.87532799],\n",
       "       [29.52844319],\n",
       "       [25.0291798 ],\n",
       "       [24.7757828 ],\n",
       "       [21.06232578],\n",
       "       [18.72140319],\n",
       "       [24.48548815],\n",
       "       [21.21194071],\n",
       "       [29.87661052],\n",
       "       [11.25915969],\n",
       "       [ 8.08624029],\n",
       "       [23.73915887],\n",
       "       [37.25791743],\n",
       "       [19.67332038],\n",
       "       [19.56629119],\n",
       "       [17.63346168],\n",
       "       [20.80361337],\n",
       "       [34.65536186],\n",
       "       [ 8.80202721],\n",
       "       [ 4.76905878],\n",
       "       [21.42975419],\n",
       "       [21.4614046 ],\n",
       "       [12.30563187],\n",
       "       [20.55699851],\n",
       "       [18.58000965],\n",
       "       [32.9877836 ],\n",
       "       [28.06514915],\n",
       "       [22.70169117],\n",
       "       [ 9.87710691],\n",
       "       [22.77134738],\n",
       "       [16.92923572],\n",
       "       [18.31953405],\n",
       "       [28.58464107],\n",
       "       [22.69860523],\n",
       "       [26.08695389],\n",
       "       [21.70979049],\n",
       "       [ 9.20547638],\n",
       "       [18.15612121],\n",
       "       [24.05686474],\n",
       "       [13.71753942],\n",
       "       [23.17613627],\n",
       "       [24.40129591],\n",
       "       [27.5151593 ],\n",
       "       [14.26298282],\n",
       "       [10.57587443],\n",
       "       [10.8202595 ],\n",
       "       [13.21277404],\n",
       "       [12.09406925],\n",
       "       [17.87917467],\n",
       "       [13.57477854],\n",
       "       [17.54982446],\n",
       "       [17.11004876],\n",
       "       [20.37406387],\n",
       "       [38.74966236],\n",
       "       [28.9422798 ],\n",
       "       [25.68347623],\n",
       "       [ 6.52607221],\n",
       "       [25.41604614],\n",
       "       [30.74074727],\n",
       "       [27.47857238],\n",
       "       [27.34067727],\n",
       "       [34.07690194],\n",
       "       [26.12785451],\n",
       "       [32.70301817],\n",
       "       [40.05167129],\n",
       "       [16.75247662],\n",
       "       [13.04769495],\n",
       "       [18.21331309],\n",
       "       [24.270693  ],\n",
       "       [34.21746136],\n",
       "       [ 9.26071723],\n",
       "       [19.57111609],\n",
       "       [24.19584893],\n",
       "       [ 4.68408056],\n",
       "       [20.11661616],\n",
       "       [23.72341346],\n",
       "       [17.36077136],\n",
       "       [23.0009023 ],\n",
       "       [26.72019229],\n",
       "       [20.47213391],\n",
       "       [32.50054632],\n",
       "       [20.79574312],\n",
       "       [24.03552079],\n",
       "       [13.6254134 ],\n",
       "       [22.43527   ],\n",
       "       [21.50654008],\n",
       "       [34.05492502],\n",
       "       [19.1392511 ],\n",
       "       [30.34802901],\n",
       "       [23.60691839],\n",
       "       [23.04489455],\n",
       "       [20.99965972],\n",
       "       [25.21361446],\n",
       "       [24.08840945],\n",
       "       [29.89960095],\n",
       "       [18.25111582],\n",
       "       [30.76003384],\n",
       "       [23.52223426],\n",
       "       [19.99663635],\n",
       "       [17.18750486],\n",
       "       [17.38752156],\n",
       "       [26.11996245],\n",
       "       [10.64090545]])"
      ]
     },
     "execution_count": 41,
     "metadata": {},
     "output_type": "execute_result"
    }
   ],
   "source": [
    "y_pred=regr.predict(X_test)\n",
    "y_pred"
   ]
  },
  {
   "cell_type": "code",
   "execution_count": 47,
   "metadata": {},
   "outputs": [
    {
     "data": {
      "text/plain": [
       "array([[30.27797413],\n",
       "       [25.27765047],\n",
       "       [30.34974045],\n",
       "       [28.32762959],\n",
       "       [27.5151593 ],\n",
       "       [25.40958232],\n",
       "       [22.90065214],\n",
       "       [19.20030483],\n",
       "       [11.06646423],\n",
       "       [18.60278466]])"
      ]
     },
     "execution_count": 47,
     "metadata": {},
     "output_type": "execute_result"
    }
   ],
   "source": [
    "# 안나누고 그냥 x_scaled_data의 값을 바로 예측 5번까지\n",
    "## 이건 별로 신경안써도될듯\n",
    "regr.predict(x_scaled_data[:10])"
   ]
  },
  {
   "cell_type": "code",
   "execution_count": null,
   "metadata": {},
   "outputs": [],
   "source": [
    "x_data[:5].dot(regr.coef_.T) + regr.intercept_    "
   ]
  },
  {
   "cell_type": "markdown",
   "metadata": {},
   "source": [
    "# 평가"
   ]
  },
  {
   "cell_type": "code",
   "execution_count": 45,
   "metadata": {},
   "outputs": [
    {
     "data": {
      "text/plain": [
       "4.360541760601323"
      ]
     },
     "execution_count": 45,
     "metadata": {},
     "output_type": "execute_result"
    }
   ],
   "source": [
    "# RMSE1\n",
    "np.sqrt(((y_test-y_pred)**2).sum()/len(y_test))"
   ]
  },
  {
   "cell_type": "code",
   "execution_count": 49,
   "metadata": {},
   "outputs": [
    {
     "data": {
      "text/plain": [
       "4.360541760601323"
      ]
     },
     "execution_count": 49,
     "metadata": {},
     "output_type": "execute_result"
    }
   ],
   "source": [
    "# RMSE2\n",
    "from sklearn.metrics import mean_squared_error\n",
    "np.sqrt(mean_squared_error(y_test,y_pred))"
   ]
  },
  {
   "cell_type": "code",
   "execution_count": 16,
   "metadata": {},
   "outputs": [],
   "source": [
    "from sklearn.metrics import r2_score\n",
    "from sklearn.metrics import mean_absolute_error\n",
    "from sklearn.metrics import mean_squared_error"
   ]
  },
  {
   "cell_type": "code",
   "execution_count": null,
   "metadata": {},
   "outputs": [],
   "source": [
    "y_true = y_test\n",
    "y_hat = regr.predict(X_test)\n",
    "\n",
    "r2_score(y_true, y_hat), mean_absolute_error(y_true, y_hat), mean_squared_error(y_true, y_hat)"
   ]
  },
  {
   "cell_type": "code",
   "execution_count": null,
   "metadata": {},
   "outputs": [],
   "source": [
    "y_true = y_train\n",
    "y_hat = regr.predict(X_train)\n",
    "\n",
    "r2_score(y_true, y_hat), mean_absolute_error(y_true, y_hat), mean_squared_error(y_true, y_hat)"
   ]
  }
 ],
 "metadata": {
  "kernelspec": {
   "display_name": "Python 3",
   "language": "python",
   "name": "python3"
  },
  "language_info": {
   "codemirror_mode": {
    "name": "ipython",
    "version": 3
   },
   "file_extension": ".py",
   "mimetype": "text/x-python",
   "name": "python",
   "nbconvert_exporter": "python",
   "pygments_lexer": "ipython3",
   "version": "3.7.4"
  }
 },
 "nbformat": 4,
 "nbformat_minor": 2
}
